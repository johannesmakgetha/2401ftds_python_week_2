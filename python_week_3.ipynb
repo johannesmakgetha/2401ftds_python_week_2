{
 "cells": [
  {
   "cell_type": "markdown",
   "metadata": {},
   "source": [
    "Write a Python function to check whether a number is divisible by another number. Accept two integer values from the user."
   ]
  },
  {
   "cell_type": "code",
   "execution_count": 1,
   "metadata": {},
   "outputs": [],
   "source": [
    "def divisible(num1,num2):\n",
    "    \"\"\"\n",
    "    Check whether a number is divisible by another number\n",
    "\n",
    "    Parameters:\n",
    "    - num1 (int): The Dividend\n",
    "    - num2 (int): The Divisor\n",
    "\n",
    "    Return (bool): Return True if num1 is divisible by num2, otherwise False\n",
    "\n",
    "    \"\"\"\n",
    "    if num1 % num2 ==0:\n",
    "        return True\n",
    "    else:\n",
    "        return False"
   ]
  },
  {
   "cell_type": "code",
   "execution_count": 3,
   "metadata": {},
   "outputs": [
    {
     "data": {
      "text/plain": [
       "False"
      ]
     },
     "execution_count": 3,
     "metadata": {},
     "output_type": "execute_result"
    }
   ],
   "source": [
    "divisible(5,2)"
   ]
  },
  {
   "cell_type": "markdown",
   "metadata": {},
   "source": [
    "Write a Python function to check whether a distinct pair of numbers whose product is odd is present in a sequence of integer values.\n",
    "\n",
    "*Pictorial Presentation of the sequence [2, 4, 6, 8]:*\n",
    "\n",
    "<img src=\"pictorial_presentation.png\">\n",
    "\n",
    "*Pictorial Presentation of the sequence [1, 6, 4, 7, 8]:*\n",
    "\n",
    "<img src=\"pictorial_presentation_true.png\">"
   ]
  },
  {
   "cell_type": "code",
   "execution_count": 4,
   "metadata": {},
   "outputs": [],
   "source": [
    "def odd_product(nums):\n",
    "    \"\"\"\n",
    "    check whether a product of two numbers from a list is odd and present in a sequence of integer values\n",
    "    \n",
    "    Parameters:\n",
    "    - nums (list of integer): a list to be checked\n",
    "\n",
    "    Return:\n",
    "    - bool: True if the condition is met, otherwise False.\n",
    "    \"\"\"\n",
    "    odd = False\n",
    "    product_num = None\n",
    "\n",
    "    for j in range(len(nums)):\n",
    "        for l in range(j,len(nums)):\n",
    "            product_num = nums[j] * nums[l]\n",
    "            \n",
    "            if product_num % 2 != 0 and product_num in nums:\n",
    "                odd = True\n",
    "    \n",
    "    return odd\n",
    "    \n",
    "    \n",
    "    "
   ]
  },
  {
   "cell_type": "code",
   "execution_count": 5,
   "metadata": {},
   "outputs": [
    {
     "name": "stdout",
     "output_type": "stream",
     "text": [
      "[2, 4, 6, 8] False\n",
      "[1, 6, 4, 7, 8] True\n",
      "[1, 3, 5, 7, 9] True\n"
     ]
    }
   ],
   "source": [
    "# Define three lists of integers.\n",
    "dt1 = [2, 4, 6, 8]\n",
    "dt2 = [1, 6, 4, 7, 8]\n",
    "dt3 = [1, 3, 5, 7, 9]\n",
    "\n",
    "# Call the 'odd_product' function for each list and print the result.\n",
    "print(dt1, odd_product(dt1))\n",
    "print(dt2, odd_product(dt2))\n",
    "print(dt3, odd_product(dt3))"
   ]
  },
  {
   "cell_type": "code",
   "execution_count": null,
   "metadata": {},
   "outputs": [],
   "source": []
  }
 ],
 "metadata": {
  "kernelspec": {
   "display_name": "SQL_packages",
   "language": "python",
   "name": "python3"
  },
  "language_info": {
   "codemirror_mode": {
    "name": "ipython",
    "version": 3
   },
   "file_extension": ".py",
   "mimetype": "text/x-python",
   "name": "python",
   "nbconvert_exporter": "python",
   "pygments_lexer": "ipython3",
   "version": "3.11.7"
  }
 },
 "nbformat": 4,
 "nbformat_minor": 2
}
